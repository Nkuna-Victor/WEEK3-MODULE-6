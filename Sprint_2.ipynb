{
 "cells": [
  {
   "cell_type": "code",
   "execution_count": 31,
   "metadata": {},
   "outputs": [],
   "source": [
    "#Author:Victor Nkuna\n",
    "#Created:04/05/2020\n",
    "\n",
    "import MySQLdb\n",
    "import pandas as pd\n",
    "import numpy as np\n",
    "from matplotlib import pyplot as plt\n",
    "%matplotlib inline\n",
    "import seaborn as sns\n"
   ]
  },
  {
   "cell_type": "code",
   "execution_count": 2,
   "metadata": {},
   "outputs": [],
   "source": [
    "\"\"\"A dictionary of list of  values and product description as keys\"\"\"\n",
    "dict_item={\"Chips\": [\"Simba\", \"Lays\"],\"Cooldrinks\": [\"Coke\", \"Fanta\"],\"Chocolates\": [\"Cadbury\", \"Tex\"],\"Pies\": [\"Pepper Steak\", \"Chicken\"],\"Fruit\": [\"Pear\", \"Apple\", \"Orange\"],\"Cupcakes\": [\"vanilla\", \"chocolate\"],\"Veggies\":[\"spinach\", \"cabbage\"]}"
   ]
  },
  {
   "cell_type": "code",
   "execution_count": 4,
   "metadata": {},
   "outputs": [],
   "source": [
    "\"\"\"Make a dataframe of dictionary of list values\"\"\"\n",
    "\n",
    "DF = pd.DataFrame.from_dict(dict_item,orient='index')\n"
   ]
  },
  {
   "cell_type": "code",
   "execution_count": 5,
   "metadata": {},
   "outputs": [
    {
     "data": {
      "text/html": [
       "<div>\n",
       "<style scoped>\n",
       "    .dataframe tbody tr th:only-of-type {\n",
       "        vertical-align: middle;\n",
       "    }\n",
       "\n",
       "    .dataframe tbody tr th {\n",
       "        vertical-align: top;\n",
       "    }\n",
       "\n",
       "    .dataframe thead th {\n",
       "        text-align: right;\n",
       "    }\n",
       "</style>\n",
       "<table border=\"1\" class=\"dataframe\">\n",
       "  <thead>\n",
       "    <tr style=\"text-align: right;\">\n",
       "      <th></th>\n",
       "      <th>0</th>\n",
       "      <th>1</th>\n",
       "      <th>2</th>\n",
       "    </tr>\n",
       "  </thead>\n",
       "  <tbody>\n",
       "    <tr>\n",
       "      <th>Chips</th>\n",
       "      <td>Simba</td>\n",
       "      <td>Lays</td>\n",
       "      <td>None</td>\n",
       "    </tr>\n",
       "    <tr>\n",
       "      <th>Cooldrinks</th>\n",
       "      <td>Coke</td>\n",
       "      <td>Fanta</td>\n",
       "      <td>None</td>\n",
       "    </tr>\n",
       "    <tr>\n",
       "      <th>Chocolates</th>\n",
       "      <td>Cadbury</td>\n",
       "      <td>Tex</td>\n",
       "      <td>None</td>\n",
       "    </tr>\n",
       "    <tr>\n",
       "      <th>Pies</th>\n",
       "      <td>Pepper Steak</td>\n",
       "      <td>Chicken</td>\n",
       "      <td>None</td>\n",
       "    </tr>\n",
       "    <tr>\n",
       "      <th>Fruit</th>\n",
       "      <td>Pear</td>\n",
       "      <td>Apple</td>\n",
       "      <td>Orange</td>\n",
       "    </tr>\n",
       "    <tr>\n",
       "      <th>Cupcakes</th>\n",
       "      <td>vanilla</td>\n",
       "      <td>chocolate</td>\n",
       "      <td>None</td>\n",
       "    </tr>\n",
       "    <tr>\n",
       "      <th>Veggies</th>\n",
       "      <td>spinach</td>\n",
       "      <td>cabbage</td>\n",
       "      <td>None</td>\n",
       "    </tr>\n",
       "  </tbody>\n",
       "</table>\n",
       "</div>"
      ],
      "text/plain": [
       "                       0          1       2\n",
       "Chips              Simba       Lays    None\n",
       "Cooldrinks          Coke      Fanta    None\n",
       "Chocolates       Cadbury        Tex    None\n",
       "Pies        Pepper Steak    Chicken    None\n",
       "Fruit               Pear      Apple  Orange\n",
       "Cupcakes         vanilla  chocolate    None\n",
       "Veggies          spinach    cabbage    None"
      ]
     },
     "execution_count": 5,
     "metadata": {},
     "output_type": "execute_result"
    }
   ],
   "source": [
    "DF"
   ]
  },
  {
   "cell_type": "code",
   "execution_count": 6,
   "metadata": {},
   "outputs": [],
   "source": [
    "\"\"\"Transpose invert the original dataframe to make product discripitons(i.e. Names) as columns\"\"\"\n",
    "\n",
    "\n",
    "new_dataframe=DF.transpose()"
   ]
  },
  {
   "cell_type": "code",
   "execution_count": 34,
   "metadata": {},
   "outputs": [
    {
     "data": {
      "text/html": [
       "<div>\n",
       "<style scoped>\n",
       "    .dataframe tbody tr th:only-of-type {\n",
       "        vertical-align: middle;\n",
       "    }\n",
       "\n",
       "    .dataframe tbody tr th {\n",
       "        vertical-align: top;\n",
       "    }\n",
       "\n",
       "    .dataframe thead th {\n",
       "        text-align: right;\n",
       "    }\n",
       "</style>\n",
       "<table border=\"1\" class=\"dataframe\">\n",
       "  <thead>\n",
       "    <tr style=\"text-align: right;\">\n",
       "      <th></th>\n",
       "      <th>Chips</th>\n",
       "      <th>Cooldrinks</th>\n",
       "      <th>Chocolates</th>\n",
       "      <th>Pies</th>\n",
       "      <th>Fruit</th>\n",
       "      <th>Cupcakes</th>\n",
       "      <th>Veggies</th>\n",
       "    </tr>\n",
       "  </thead>\n",
       "  <tbody>\n",
       "    <tr>\n",
       "      <th>0</th>\n",
       "      <td>Simba</td>\n",
       "      <td>Coke</td>\n",
       "      <td>Cadbury</td>\n",
       "      <td>Pepper Steak</td>\n",
       "      <td>Pear</td>\n",
       "      <td>vanilla</td>\n",
       "      <td>spinach</td>\n",
       "    </tr>\n",
       "    <tr>\n",
       "      <th>1</th>\n",
       "      <td>Lays</td>\n",
       "      <td>Fanta</td>\n",
       "      <td>Tex</td>\n",
       "      <td>Chicken</td>\n",
       "      <td>Apple</td>\n",
       "      <td>chocolate</td>\n",
       "      <td>cabbage</td>\n",
       "    </tr>\n",
       "    <tr>\n",
       "      <th>2</th>\n",
       "      <td>None</td>\n",
       "      <td>None</td>\n",
       "      <td>None</td>\n",
       "      <td>None</td>\n",
       "      <td>Orange</td>\n",
       "      <td>None</td>\n",
       "      <td>None</td>\n",
       "    </tr>\n",
       "  </tbody>\n",
       "</table>\n",
       "</div>"
      ],
      "text/plain": [
       "   Chips Cooldrinks Chocolates          Pies   Fruit   Cupcakes  Veggies\n",
       "0  Simba       Coke    Cadbury  Pepper Steak    Pear    vanilla  spinach\n",
       "1   Lays      Fanta        Tex       Chicken   Apple  chocolate  cabbage\n",
       "2   None       None       None          None  Orange       None     None"
      ]
     },
     "execution_count": 34,
     "metadata": {},
     "output_type": "execute_result"
    }
   ],
   "source": [
    "\"\"\"printing then dataframe \"\"\"\n",
    "new_dataframe\n"
   ]
  },
  {
   "cell_type": "code",
   "execution_count": 29,
   "metadata": {},
   "outputs": [],
   "source": [
    "\"\"\"converting a  pandas dataframe to a file of csv format\"\"\"\n",
    "csv=new_dataframe.to_csv(r'C:\\Users\\Administrator\\Desktop\\sprint2\\products.csv',encoding='utf-8',index=True,na_rep='')"
   ]
  },
  {
   "cell_type": "code",
   "execution_count": 30,
   "metadata": {},
   "outputs": [
    {
     "data": {
      "text/html": [
       "<div>\n",
       "<style scoped>\n",
       "    .dataframe tbody tr th:only-of-type {\n",
       "        vertical-align: middle;\n",
       "    }\n",
       "\n",
       "    .dataframe tbody tr th {\n",
       "        vertical-align: top;\n",
       "    }\n",
       "\n",
       "    .dataframe thead th {\n",
       "        text-align: right;\n",
       "    }\n",
       "</style>\n",
       "<table border=\"1\" class=\"dataframe\">\n",
       "  <thead>\n",
       "    <tr style=\"text-align: right;\">\n",
       "      <th></th>\n",
       "      <th>Chips</th>\n",
       "      <th>Cooldrinks</th>\n",
       "      <th>Chocolates</th>\n",
       "      <th>Pies</th>\n",
       "      <th>Fruit</th>\n",
       "      <th>Cupcakes</th>\n",
       "      <th>Veggies</th>\n",
       "    </tr>\n",
       "  </thead>\n",
       "  <tbody>\n",
       "    <tr>\n",
       "      <th>0</th>\n",
       "      <td>Simba</td>\n",
       "      <td>Coke</td>\n",
       "      <td>Cadbury</td>\n",
       "      <td>Pepper Steak</td>\n",
       "      <td>Pear</td>\n",
       "      <td>vanilla</td>\n",
       "      <td>spinach</td>\n",
       "    </tr>\n",
       "    <tr>\n",
       "      <th>1</th>\n",
       "      <td>Lays</td>\n",
       "      <td>Fanta</td>\n",
       "      <td>Tex</td>\n",
       "      <td>Chicken</td>\n",
       "      <td>Apple</td>\n",
       "      <td>chocolate</td>\n",
       "      <td>cabbage</td>\n",
       "    </tr>\n",
       "    <tr>\n",
       "      <th>2</th>\n",
       "      <td>None</td>\n",
       "      <td>None</td>\n",
       "      <td>None</td>\n",
       "      <td>None</td>\n",
       "      <td>Orange</td>\n",
       "      <td>None</td>\n",
       "      <td>None</td>\n",
       "    </tr>\n",
       "  </tbody>\n",
       "</table>\n",
       "</div>"
      ],
      "text/plain": [
       "   Chips Cooldrinks Chocolates          Pies   Fruit   Cupcakes  Veggies\n",
       "0  Simba       Coke    Cadbury  Pepper Steak    Pear    vanilla  spinach\n",
       "1   Lays      Fanta        Tex       Chicken   Apple  chocolate  cabbage\n",
       "2   None       None       None          None  Orange       None     None"
      ]
     },
     "execution_count": 30,
     "metadata": {},
     "output_type": "execute_result"
    }
   ],
   "source": [
    "new_dataframe"
   ]
  },
  {
   "cell_type": "code",
   "execution_count": 33,
   "metadata": {},
   "outputs": [
    {
     "name": "stderr",
     "output_type": "stream",
     "text": [
      "C:\\ProgramData\\Anaconda3\\lib\\site-packages\\ipykernel_launcher.py:6: MatplotlibDeprecationWarning: Adding an axes using the same arguments as a previous axes currently reuses the earlier instance.  In a future version, a new instance will always be created and returned.  Meanwhile, this warning can be suppressed, and the future behavior ensured, by passing a unique label to each axes instance.\n",
      "  \n"
     ]
    },
    {
     "data": {
      "image/png": "[encoded data removed]",
      "text/plain": [
       "<Figure size 432x288 with 1 Axes>"
      ]
     },
     "metadata": {
      "needs_background": "light"
     },
     "output_type": "display_data"
    },
    {
     "data": {
      "image/png": "[encoded data removed]",
      "text/plain": [
       "<Figure size 432x288 with 1 Axes>"
      ]
     },
     "metadata": {
      "needs_background": "light"
     },
     "output_type": "display_data"
    },
    {
     "data": {
      "image/png": "[encoded data removed]",
      "text/plain": [
       "<Figure size 432x288 with 1 Axes>"
      ]
     },
     "metadata": {
      "needs_background": "light"
     },
     "output_type": "display_data"
    },
    {
     "data": {
      "image/png": "[encoded data removed]",
      "text/plain": [
       "<Figure size 432x288 with 1 Axes>"
      ]
     },
     "metadata": {
      "needs_background": "light"
     },
     "output_type": "display_data"
    },
    {
     "data": {
      "image/png": "[encoded data removed]",
      "text/plain": [
       "<Figure size 432x288 with 1 Axes>"
      ]
     },
     "metadata": {
      "needs_background": "light"
     },
     "output_type": "display_data"
    },
    {
     "data": {
      "image/png": "[encoded data removed]",
      "text/plain": [
       "<Figure size 432x288 with 1 Axes>"
      ]
     },
     "metadata": {
      "needs_background": "light"
     },
     "output_type": "display_data"
    },
    {
     "data": {
      "image/png": "[encoded data removed]",
      "text/plain": [
       "<Figure size 432x288 with 1 Axes>"
      ]
     },
     "metadata": {
      "needs_background": "light"
     },
     "output_type": "display_data"
    }
   ],
   "source": [
    "\"\"\"making visuals from  dataframe products, and their associated brands\"\"\"\n",
    "\n",
    "\n",
    "for i in new_dataframe.columns:\n",
    "    a=sns.countplot(x=i,data=new_dataframe)\n",
    "    plt.subplot()\n",
    "    plt.show()\n",
    "    \n",
    "    \n"
   ]
  }
 ],
 "metadata": {
  "kernelspec": {
   "display_name": "Python 3",
   "language": "python",
   "name": "python3"
  },
  "language_info": {
   "codemirror_mode": {
    "name": "ipython",
    "version": 3
   },
   "file_extension": ".py",
   "mimetype": "text/x-python",
   "name": "python",
   "nbconvert_exporter": "python",
   "pygments_lexer": "ipython3",
   "version": "3.7.3"
  }
 },
 "nbformat": 4,
 "nbformat_minor": 2
}
